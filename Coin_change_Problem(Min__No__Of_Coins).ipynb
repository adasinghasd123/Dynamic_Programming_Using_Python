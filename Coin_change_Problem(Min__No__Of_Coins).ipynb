{
  "nbformat": 4,
  "nbformat_minor": 0,
  "metadata": {
    "colab": {
      "name": "Coin_change_Problem(Min._No._Of_Coins).ipynb",
      "provenance": [],
      "authorship_tag": "ABX9TyOlF5xFiPntzpljaXC6vFYK",
      "include_colab_link": true
    },
    "kernelspec": {
      "name": "python3",
      "display_name": "Python 3"
    },
    "language_info": {
      "name": "python"
    }
  },
  "cells": [
    {
      "cell_type": "markdown",
      "metadata": {
        "id": "view-in-github",
        "colab_type": "text"
      },
      "source": [
        "<a href=\"https://colab.research.google.com/github/adasinghasd123/Dynamic_Programming_Using_Python/blob/main/Coin_change_Problem(Min__No__Of_Coins).ipynb\" target=\"_parent\"><img src=\"https://colab.research.google.com/assets/colab-badge.svg\" alt=\"Open In Colab\"/></a>"
      ]
    },
    {
      "cell_type": "code",
      "metadata": {
        "id": "UNZ8CewK70ys",
        "colab": {
          "base_uri": "https://localhost:8080/"
        },
        "outputId": "3885bc5a-d6e1-4576-94e1-7f9cc996eb02"
      },
      "source": [
        "import sys\n",
        "def coinsum(sum,coin,n):\n",
        "  t=[[0 for j in range(sum+1)]for i in range(n+1)]\n",
        "  for i in range(1,n+1): \n",
        "    t[i][0]=0\n",
        "  for i in range(sum+1):\n",
        "    t[0][i]=sys.maxsize-1\n",
        "  for i in range(1,sum+1):\n",
        "    if i%coin[0]==0:\n",
        "      t[1][i]=i//coin[0]\n",
        "    else:\n",
        "      t[1][i]=sys.maxsize-1\n",
        "  \n",
        "  for i in range(1,n+1):\n",
        "    for j in range(1,sum+1):\n",
        "      if coin[i-1]<=j:\n",
        "        t[i][j]= min((t[i-1][j]) ,(t[i][j-coin[i-1]]+1))\n",
        "      else:\n",
        "        t[i][j]=t[i-1][j]\n",
        "  return t[n][sum]          \n",
        "\n",
        "\n",
        "if __name__=='__main__':\n",
        "  sum=int(input())\n",
        "  coin=list(map(int,input().split()))\n",
        "  n=len(coin)\n",
        "  ans=coinsum(sum,coin,n)  \n",
        "  print(ans)"
      ],
      "execution_count": 8,
      "outputs": [
        {
          "output_type": "stream",
          "text": [
            "30\n",
            "25 10 5\n",
            "2\n"
          ],
          "name": "stdout"
        }
      ]
    },
    {
      "cell_type": "code",
      "metadata": {
        "id": "a_CJZqAGf_Px"
      },
      "source": [
        "25"
      ],
      "execution_count": null,
      "outputs": []
    }
  ]
}