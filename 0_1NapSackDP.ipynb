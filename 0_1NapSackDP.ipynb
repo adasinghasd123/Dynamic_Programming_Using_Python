{
  "nbformat": 4,
  "nbformat_minor": 0,
  "metadata": {
    "colab": {
      "name": "0-1NapSackDP.ipynb",
      "provenance": [],
      "authorship_tag": "ABX9TyMLrWoesPCm6iNACKMtFOmE",
      "include_colab_link": true
    },
    "kernelspec": {
      "name": "python3",
      "display_name": "Python 3"
    },
    "language_info": {
      "name": "python"
    }
  },
  "cells": [
    {
      "cell_type": "markdown",
      "metadata": {
        "id": "view-in-github",
        "colab_type": "text"
      },
      "source": [
        "<a href=\"https://colab.research.google.com/github/adasinghasd123/Dynamic_Programming_Using_Python/blob/main/0_1NapSackDP.ipynb\" target=\"_parent\"><img src=\"https://colab.research.google.com/assets/colab-badge.svg\" alt=\"Open In Colab\"/></a>"
      ]
    },
    {
      "cell_type": "code",
      "metadata": {
        "id": "Ongf9pu5kvvP",
        "colab": {
          "base_uri": "https://localhost:8080/"
        },
        "outputId": "2f868379-934c-4e5a-cc1b-04e8c965be67"
      },
      "source": [
        "def nap(wt,val,w,n):\n",
        "  t=[[0 for x in range(w+ 1)] for x in range(n + 1)]\n",
        "\n",
        "  for i in range(n+1):\n",
        "    for j in range(w+1):\n",
        "      if i==0 or j==0:\n",
        "        t[i][j]=0\n",
        "      elif wt[i-1]<=j:\n",
        "        t[i][j]=max(val[i-1]+ t[i-1][j-wt[i-1]], t[i-1][j])\n",
        "      else:\n",
        "        t[i][j]=t[i-1][j]   \n",
        "  return t[n][w]      \n",
        "wt=list(map(int,input().split()))\n",
        "val=list(map(int,input().split()))\n",
        "w=int(input())\n",
        "n=len(wt)\n",
        "ans=nap(wt,val,w,n)\n",
        "print(ans)   \n"
      ],
      "execution_count": 5,
      "outputs": [
        {
          "output_type": "stream",
          "text": [
            "10 20 30\n",
            "60 100 120\n",
            "50\n",
            "220\n"
          ],
          "name": "stdout"
        }
      ]
    },
    {
      "cell_type": "code",
      "metadata": {
        "id": "XGuxs4DUo9sF"
      },
      "source": [
        ""
      ],
      "execution_count": null,
      "outputs": []
    }
  ]
}