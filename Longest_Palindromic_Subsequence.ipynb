{
  "nbformat": 4,
  "nbformat_minor": 0,
  "metadata": {
    "colab": {
      "name": "Longest Palindromic Subsequence.ipynb",
      "provenance": [],
      "authorship_tag": "ABX9TyOHoRPbmKwF+Ls/SuPVyaa1",
      "include_colab_link": true
    },
    "kernelspec": {
      "name": "python3",
      "display_name": "Python 3"
    },
    "language_info": {
      "name": "python"
    }
  },
  "cells": [
    {
      "cell_type": "markdown",
      "metadata": {
        "id": "view-in-github",
        "colab_type": "text"
      },
      "source": [
        "<a href=\"https://colab.research.google.com/github/adasinghasd123/Dynamic_Programming_Using_Python/blob/main/Longest_Palindromic_Subsequence.ipynb\" target=\"_parent\"><img src=\"https://colab.research.google.com/assets/colab-badge.svg\" alt=\"Open In Colab\"/></a>"
      ]
    },
    {
      "cell_type": "code",
      "metadata": {
        "colab": {
          "base_uri": "https://localhost:8080/"
        },
        "id": "6hSt_WDP49Pi",
        "outputId": "97c1d1bf-518e-435f-8392-194e931f286c"
      },
      "source": [
        "def lps(a,b,m,n):\n",
        "  t=[[None]*(n+1) for i in range(m+1)]\n",
        "\n",
        "  for i in range(m+1):\n",
        "    for j in range(n+1):\n",
        "      if i==0 or j==0:\n",
        "        t[i][j]=0\n",
        "      elif a[i-1]==b[j-1]:\n",
        "        t[i][j]=1+t[i-1][j-1]\n",
        "      else:\n",
        "        t[i][j]=max(t[i][j-1],t[i-1][j])\n",
        "  return t[m][n]   \n",
        "\n",
        "\n",
        "a=\"agbcba\"\n",
        "b=a[::-1]\n",
        "print(lps(a,b,len(a),len(b)))         "
      ],
      "execution_count": 2,
      "outputs": [
        {
          "output_type": "stream",
          "text": [
            "5\n"
          ],
          "name": "stdout"
        }
      ]
    },
    {
      "cell_type": "code",
      "metadata": {
        "id": "u6IqzUL16Z3B"
      },
      "source": [
        ""
      ],
      "execution_count": null,
      "outputs": []
    }
  ]
}