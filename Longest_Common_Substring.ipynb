{
  "nbformat": 4,
  "nbformat_minor": 0,
  "metadata": {
    "colab": {
      "name": "Longest Common Substring.ipynb",
      "provenance": [],
      "authorship_tag": "ABX9TyPKnmgYXAGH6r6VhSvBo0ta",
      "include_colab_link": true
    },
    "kernelspec": {
      "name": "python3",
      "display_name": "Python 3"
    },
    "language_info": {
      "name": "python"
    }
  },
  "cells": [
    {
      "cell_type": "markdown",
      "metadata": {
        "id": "view-in-github",
        "colab_type": "text"
      },
      "source": [
        "<a href=\"https://colab.research.google.com/github/adasinghasd123/Dynamic_Programming_Using_Python/blob/main/Longest_Common_Substring.ipynb\" target=\"_parent\"><img src=\"https://colab.research.google.com/assets/colab-badge.svg\" alt=\"Open In Colab\"/></a>"
      ]
    },
    {
      "cell_type": "code",
      "metadata": {
        "colab": {
          "base_uri": "https://localhost:8080/"
        },
        "id": "YBGoiVaQv-jZ",
        "outputId": "3d2262ee-3435-4d16-c079-c92eb4710ddb"
      },
      "source": [
        "def lcs(x,y,m,n):\n",
        "  t= [[0 for k in range(n+1)] for l in range(m+1)]\n",
        "  result=0\n",
        "\n",
        "  for i in range(m+1):\n",
        "    for j in range(n+1):\n",
        "      if i==0 or j==0:\n",
        "        t[i][j]=0\n",
        "\n",
        "      elif x[i-1]==y[j-1]:\n",
        "        t[i][j]=t[i-1][j-1]+1\n",
        "        result = max(result, t[i][j])\n",
        "      else:\n",
        "        t[i][j]=0    \n",
        "  return result\n",
        "\n",
        "\n",
        "x = 'OldSite:GeeksforGeeks.org'\n",
        "y = 'NewSite:GeeksQuiz.com'\n",
        " \n",
        "z=lcs(x, y,len(x),len(y))\n",
        "print (\"Length of LCS is \",z)"
      ],
      "execution_count": 19,
      "outputs": [
        {
          "output_type": "stream",
          "text": [
            "Length of LCS is  10\n"
          ],
          "name": "stdout"
        }
      ]
    },
    {
      "cell_type": "code",
      "metadata": {
        "id": "W_O-huFSwkjH"
      },
      "source": [
        ""
      ],
      "execution_count": null,
      "outputs": []
    }
  ]
}