{
  "nbformat": 4,
  "nbformat_minor": 0,
  "metadata": {
    "colab": {
      "name": "Unbouned_Kapsack.ipynb",
      "provenance": [],
      "authorship_tag": "ABX9TyOHxI7isu+ETJJNS2uaBqYr",
      "include_colab_link": true
    },
    "kernelspec": {
      "name": "python3",
      "display_name": "Python 3"
    },
    "language_info": {
      "name": "python"
    }
  },
  "cells": [
    {
      "cell_type": "markdown",
      "metadata": {
        "id": "view-in-github",
        "colab_type": "text"
      },
      "source": [
        "<a href=\"https://colab.research.google.com/github/adasinghasd123/Dynamic_Programming_Using_Python/blob/main/Unbouned_Kapsack.ipynb\" target=\"_parent\"><img src=\"https://colab.research.google.com/assets/colab-badge.svg\" alt=\"Open In Colab\"/></a>"
      ]
    },
    {
      "cell_type": "code",
      "metadata": {
        "id": "UNZ8CewK70ys",
        "colab": {
          "base_uri": "https://localhost:8080/"
        },
        "outputId": "057853e8-4bb2-404b-e7f1-808b9267b466"
      },
      "source": [
        "def nap(wt,val,w,n):\n",
        "  t=[[0 for j in range(w+1)]for i in range(n+1)]\n",
        "\n",
        "  for i in range(n+1):\n",
        "    for j in range(w+1):\n",
        "      if i==0 or j==0:\n",
        "        t[i][j]=0\n",
        "      elif wt[i-1]<=w:\n",
        "        t[i][j]= max((val[i-1]+ t[i][j-wt[i-1]]),t[i-1][j])\n",
        "      else:\n",
        "        t[i][j]=t[i-1][j]\n",
        "  return t[n][w]          \n",
        "\n",
        "\n",
        "if __name__=='__main__':\n",
        "  w=int(input())\n",
        "  wt=list(map(int,input().split()))\n",
        "  val=list(map(int,input().split()))\n",
        "  n=len(wt)\n",
        "  ans=nap(wt,val,w,n)  \n",
        "  print(ans)"
      ],
      "execution_count": 11,
      "outputs": [
        {
          "output_type": "stream",
          "text": [
            "100\n",
            "1 50\n",
            "1 30\n",
            "100\n"
          ],
          "name": "stdout"
        }
      ]
    }
  ]
}