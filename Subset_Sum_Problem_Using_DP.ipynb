{
  "nbformat": 4,
  "nbformat_minor": 0,
  "metadata": {
    "colab": {
      "name": "Subset_Sum_Problem_Using_DP.ipynb",
      "provenance": [],
      "collapsed_sections": [],
      "authorship_tag": "ABX9TyMmzGI6wbFQYnOoY6oKkFpg",
      "include_colab_link": true
    },
    "kernelspec": {
      "name": "python3",
      "display_name": "Python 3"
    },
    "language_info": {
      "name": "python"
    }
  },
  "cells": [
    {
      "cell_type": "markdown",
      "metadata": {
        "id": "view-in-github",
        "colab_type": "text"
      },
      "source": [
        "<a href=\"https://colab.research.google.com/github/adasinghasd123/Dynamic_Programming_Using_Python/blob/main/Subset_Sum_Problem_Using_DP.ipynb\" target=\"_parent\"><img src=\"https://colab.research.google.com/assets/colab-badge.svg\" alt=\"Open In Colab\"/></a>"
      ]
    },
    {
      "cell_type": "markdown",
      "metadata": {
        "id": "R9A2_HpR1_Lh"
      },
      "source": [
        ""
      ]
    },
    {
      "cell_type": "code",
      "metadata": {
        "colab": {
          "base_uri": "https://localhost:8080/"
        },
        "id": "SJ7DgspeqQ3p",
        "outputId": "4a19493e-37fd-4e91-8f34-a3246c60505b"
      },
      "source": [
        "\n",
        "tab = [[-1 for i in range(2000)] for j in range(2000)]\n",
        "\n",
        "\n",
        "def subsetSum(a, n, sum):\n",
        "\t\n",
        "\n",
        "\tif (sum == 0):\n",
        "\t\treturn 1\n",
        "\t\n",
        "\tif (n <= 0):\n",
        "\t\treturn 0\n",
        "\t\t\n",
        "\t\n",
        "\tif (tab[n - 1][sum] != -1):\n",
        "\t\treturn tab[n - 1][sum]\n",
        "\t\t\n",
        "\t# if the value of a[n-1] is\n",
        "\t# greater than the sum.\n",
        "\t# we call for the next value\n",
        "\tif (a[n - 1] > sum):\n",
        "\t\ttab[n - 1][sum] = subsetSum(a, n - 1, sum)\n",
        "\t\treturn tab[n - 1][sum]\n",
        "\telse:\n",
        "\t\t\n",
        "\t\t\n",
        "\t\ttab[n - 1][sum] = subsetSum(a, n - 1, sum)\n",
        "\t\treturn tab[n - 1][sum] or subsetSum(a, n - 1, sum - a[n - 1])\n",
        "\n",
        "\n",
        "\n",
        "n = 5\n",
        "a = [1, 5, 3, 7, 4]\n",
        "sum = 12\n",
        "\n",
        "if (subsetSum(a, n, sum)):\n",
        "\tprint(\"YES\")\n",
        "else:\n",
        "\tprint(\"NO\")\n",
        "\n",
        "\n"
      ],
      "execution_count": 2,
      "outputs": [
        {
          "output_type": "stream",
          "text": [
            "YES\n"
          ],
          "name": "stdout"
        }
      ]
    },
    {
      "cell_type": "code",
      "metadata": {
        "id": "QDjH5SDQL9Pn"
      },
      "source": [
        ""
      ],
      "execution_count": null,
      "outputs": []
    }
  ]
}