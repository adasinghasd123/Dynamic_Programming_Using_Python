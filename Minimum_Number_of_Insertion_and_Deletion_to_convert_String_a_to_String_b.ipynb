{
  "nbformat": 4,
  "nbformat_minor": 0,
  "metadata": {
    "colab": {
      "name": "Minimum Number of Insertion and Deletion to convert String a to String b.ipynb",
      "provenance": [],
      "authorship_tag": "ABX9TyNICfJe7HnY28ZlJLrW9LRc",
      "include_colab_link": true
    },
    "kernelspec": {
      "name": "python3",
      "display_name": "Python 3"
    },
    "language_info": {
      "name": "python"
    }
  },
  "cells": [
    {
      "cell_type": "markdown",
      "metadata": {
        "id": "view-in-github",
        "colab_type": "text"
      },
      "source": [
        "<a href=\"https://colab.research.google.com/github/adasinghasd123/Dynamic_Programming_Using_Python/blob/main/Minimum_Number_of_Insertion_and_Deletion_to_convert_String_a_to_String_b.ipynb\" target=\"_parent\"><img src=\"https://colab.research.google.com/assets/colab-badge.svg\" alt=\"Open In Colab\"/></a>"
      ]
    },
    {
      "cell_type": "code",
      "metadata": {
        "colab": {
          "base_uri": "https://localhost:8080/"
        },
        "id": "6hSt_WDP49Pi",
        "outputId": "a6ab1b65-040c-4c7f-9c6e-7c3ca65dd189"
      },
      "source": [
        "def lcs(a,b,m,n):\n",
        "  t=[[None]*(n+1) for i in range(m+1)]\n",
        "\n",
        "  for i in range(m+1):\n",
        "    for j in range(n+1):\n",
        "      if i==0 or j==0:\n",
        "        t[i][j]=0\n",
        "      elif a[i-1]==b[j-1]:\n",
        "        t[i][j]=1+t[i-1][j-1]\n",
        "      else:\n",
        "        t[i][j]=max(t[i][j-1],t[i-1][j])\n",
        "  d= len(a)-t[m][n]   \n",
        "  i=len(b)-t[m][n]\n",
        "  return (d,i)\n",
        "a=\"geeksforgeeks\"\n",
        "b=\"geeks\"\n",
        "print(lcs(a,b,len(a),len(b)))         "
      ],
      "execution_count": 6,
      "outputs": [
        {
          "output_type": "stream",
          "text": [
            "(8, 0)\n"
          ],
          "name": "stdout"
        }
      ]
    },
    {
      "cell_type": "code",
      "metadata": {
        "id": "u6IqzUL16Z3B"
      },
      "source": [
        ""
      ],
      "execution_count": null,
      "outputs": []
    }
  ]
}