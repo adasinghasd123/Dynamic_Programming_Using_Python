{
  "nbformat": 4,
  "nbformat_minor": 0,
  "metadata": {
    "colab": {
      "name": " Longest repeating subsequence.ipynb",
      "provenance": [],
      "authorship_tag": "ABX9TyNI68DyJjA6tvfHFusXKApo",
      "include_colab_link": true
    },
    "kernelspec": {
      "name": "python3",
      "display_name": "Python 3"
    },
    "language_info": {
      "name": "python"
    }
  },
  "cells": [
    {
      "cell_type": "markdown",
      "metadata": {
        "id": "view-in-github",
        "colab_type": "text"
      },
      "source": [
        "<a href=\"https://colab.research.google.com/github/adasinghasd123/Dynamic_Programming_Using_Python/blob/main/Longest_repeating_subsequence.ipynb\" target=\"_parent\"><img src=\"https://colab.research.google.com/assets/colab-badge.svg\" alt=\"Open In Colab\"/></a>"
      ]
    },
    {
      "cell_type": "code",
      "metadata": {
        "colab": {
          "base_uri": "https://localhost:8080/"
        },
        "id": "6hSt_WDP49Pi",
        "outputId": "da7f79f2-cd6a-48ee-96dd-219eb89f0d30"
      },
      "source": [
        "def lcs(a,b,m,n):\n",
        "  t=[[None]*(n+1) for i in range(m+1)]\n",
        "\n",
        "  for i in range(m+1):\n",
        "    for j in range(n+1):\n",
        "      if i==0 or j==0:\n",
        "        t[i][j]=0\n",
        "      elif a[i-1] == b[j-1] and i!=j:\n",
        "        t[i][j]=1+t[i-1][j-1]\n",
        "      else:\n",
        "        t[i][j]=max(t[i-1][j],t[i][j-1])\n",
        "  return t[m][n]\n",
        "\n",
        "\n",
        "a=\"aab\"\n",
        "b=a\n",
        "print(lcs(a,b,len(a),len(b)))         "
      ],
      "execution_count": 16,
      "outputs": [
        {
          "output_type": "stream",
          "text": [
            "1\n"
          ],
          "name": "stdout"
        }
      ]
    },
    {
      "cell_type": "code",
      "metadata": {
        "id": "u6IqzUL16Z3B"
      },
      "source": [
        ""
      ],
      "execution_count": null,
      "outputs": []
    }
  ]
}