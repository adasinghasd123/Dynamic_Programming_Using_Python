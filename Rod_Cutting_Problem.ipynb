{
  "nbformat": 4,
  "nbformat_minor": 0,
  "metadata": {
    "colab": {
      "name": "Rod_Cutting_Problem.ipynb",
      "provenance": [],
      "authorship_tag": "ABX9TyOyJVqmyFL0nMqQjfoH6TfA",
      "include_colab_link": true
    },
    "kernelspec": {
      "name": "python3",
      "display_name": "Python 3"
    },
    "language_info": {
      "name": "python"
    }
  },
  "cells": [
    {
      "cell_type": "markdown",
      "metadata": {
        "id": "view-in-github",
        "colab_type": "text"
      },
      "source": [
        "<a href=\"https://colab.research.google.com/github/adasinghasd123/Dynamic_Programming_Using_Python/blob/main/Rod_Cutting_Problem.ipynb\" target=\"_parent\"><img src=\"https://colab.research.google.com/assets/colab-badge.svg\" alt=\"Open In Colab\"/></a>"
      ]
    },
    {
      "cell_type": "code",
      "metadata": {
        "id": "UNZ8CewK70ys",
        "colab": {
          "base_uri": "https://localhost:8080/"
        },
        "outputId": "a0f9a162-0c8b-43cf-c9a5-3bcb7ddae2ec"
      },
      "source": [
        "def cutrod(length,price,l,n):\n",
        "  t=[[0 for j in range(l+1)]for i in range(n+1)]\n",
        "\n",
        "  for i in range(n+1):\n",
        "    for j in range(l+1):\n",
        "      if i==0 or j==0:\n",
        "        t[i][j]=0\n",
        "      elif length[i-1]<=j:\n",
        "        t[i][j]= max((price[i-1]+ t[i][j-length[i-1]]),t[i-1][j])\n",
        "      else:\n",
        "        t[i][j]=t[i-1][j]\n",
        "  return t[n][l]          \n",
        "\n",
        "\n",
        "if __name__=='__main__':\n",
        "  l=int(input())\n",
        "  length=list(map(int,input().split()))\n",
        "  price=list(map(int,input().split()))\n",
        "  n=len(length)\n",
        "  ans=cutrod(length,price,l,n)  \n",
        "  print(ans)"
      ],
      "execution_count": 20,
      "outputs": [
        {
          "output_type": "stream",
          "text": [
            "8\n",
            "1 2 3 4 5 6 7 8\n",
            "1 5 8 9 10 17 17 20\n",
            "22\n"
          ],
          "name": "stdout"
        }
      ]
    },
    {
      "cell_type": "code",
      "metadata": {
        "id": "a_CJZqAGf_Px"
      },
      "source": [
        ""
      ],
      "execution_count": null,
      "outputs": []
    }
  ]
}