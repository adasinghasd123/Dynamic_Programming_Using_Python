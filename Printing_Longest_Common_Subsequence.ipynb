{
  "nbformat": 4,
  "nbformat_minor": 0,
  "metadata": {
    "colab": {
      "name": "Printing Longest Common Subsequence.ipynb",
      "provenance": [],
      "authorship_tag": "ABX9TyNDXW8q4feuty2i+VLRGR8F",
      "include_colab_link": true
    },
    "kernelspec": {
      "name": "python3",
      "display_name": "Python 3"
    },
    "language_info": {
      "name": "python"
    }
  },
  "cells": [
    {
      "cell_type": "markdown",
      "metadata": {
        "id": "view-in-github",
        "colab_type": "text"
      },
      "source": [
        "<a href=\"https://colab.research.google.com/github/adasinghasd123/Dynamic_Programming_Using_Python/blob/main/Printing_Longest_Common_Subsequence.ipynb\" target=\"_parent\"><img src=\"https://colab.research.google.com/assets/colab-badge.svg\" alt=\"Open In Colab\"/></a>"
      ]
    },
    {
      "cell_type": "code",
      "metadata": {
        "colab": {
          "base_uri": "https://localhost:8080/"
        },
        "id": "pm7ektuQefnT",
        "outputId": "84d04cdb-b603-40a1-bbd7-556c008b7957"
      },
      "source": [
        "def ps(x,y,m,n):\n",
        "  t=[[0 for i in range(n+1)]for j in range(m+1)]\n",
        "\n",
        "  for i in range(m+1):\n",
        "    for j in range(n+1):\n",
        "      if i==0 or j==0:\n",
        "        t[i][j]=0\n",
        "      elif x[i-1]==y[j-1] :\n",
        "        t[i][j]=t[i-1][j-1]+1\n",
        "      else:\n",
        "        t[i][j]=max(t[i-1][j],t[i][j-1])\n",
        "  i=m\n",
        "  j=n\n",
        "  a=[]\n",
        "  while i>0 and j>0:\n",
        "    if x[i-1]==y[j-1]:\n",
        "      a.append(x[i-1])\n",
        "      i-=1\n",
        "      j-=1\n",
        "    elif t[i-1][j]>t[i][j-1]:\n",
        "      i-=1\n",
        "    else:\n",
        "      j-=1  \n",
        "  a=a[::-1]\n",
        "  print(\"LCS of \" + x + \" and \" + y + \" is \" + \"\".join(a))\n",
        "x = \"AGGTAB\"\n",
        "y = \"GXTXAYB\"\n",
        "m = len(x)\n",
        "n = len(y)\n",
        "ps(x, y, m, n)\n",
        "         "
      ],
      "execution_count": 5,
      "outputs": [
        {
          "output_type": "stream",
          "text": [
            "LCS of AGGTAB and GXTXAYB is GTAB\n"
          ],
          "name": "stdout"
        }
      ]
    },
    {
      "cell_type": "code",
      "metadata": {
        "id": "PwBDrgN4f9C7"
      },
      "source": [
        ""
      ],
      "execution_count": null,
      "outputs": []
    }
  ]
}