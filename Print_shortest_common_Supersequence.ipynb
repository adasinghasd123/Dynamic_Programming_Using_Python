{
  "nbformat": 4,
  "nbformat_minor": 0,
  "metadata": {
    "colab": {
      "name": "Print shortest common Supersequence.ipynb",
      "provenance": [],
      "authorship_tag": "ABX9TyNZ0OIZLBh909oPlYhN9h6A",
      "include_colab_link": true
    },
    "kernelspec": {
      "name": "python3",
      "display_name": "Python 3"
    },
    "language_info": {
      "name": "python"
    }
  },
  "cells": [
    {
      "cell_type": "markdown",
      "metadata": {
        "id": "view-in-github",
        "colab_type": "text"
      },
      "source": [
        "<a href=\"https://colab.research.google.com/github/adasinghasd123/Dynamic_Programming_Using_Python/blob/main/Print_shortest_common_Supersequence.ipynb\" target=\"_parent\"><img src=\"https://colab.research.google.com/assets/colab-badge.svg\" alt=\"Open In Colab\"/></a>"
      ]
    },
    {
      "cell_type": "code",
      "metadata": {
        "colab": {
          "base_uri": "https://localhost:8080/"
        },
        "id": "6hSt_WDP49Pi",
        "outputId": "2a650c65-848d-4a12-c6fe-cad6643c6c03"
      },
      "source": [
        "def lcs(a,b,m,n):\n",
        "  t=[[None]*(n+1) for i in range(m+1)]\n",
        "\n",
        "  for i in range(m+1):\n",
        "    for j in range(n+1):\n",
        "      if i==0 or j==0:\n",
        "        t[i][j]=0\n",
        "      elif a[i-1] == b[j-1]:\n",
        "        t[i][j]=1+t[i-1][j-1]\n",
        "      else:\n",
        "        t[i][j]=max(t[i-1][j],t[i][j-1])\n",
        "  i=m\n",
        "  j=n\n",
        "  s=[]\n",
        "  while i>0 and j>0:\n",
        "    if a[i-1]==b[j-1]:\n",
        "      s.append(a[i-1])\n",
        "      i-=1\n",
        "      j-=1\n",
        "    else:\n",
        "      if t[i-1][j]>t[i][j-1]:\n",
        "        s.append(a[i-1])\n",
        "        i-=1\n",
        "      else:\n",
        "        s.append(b[j-1])\n",
        "        j-=1\n",
        "  while i>0:\n",
        "          s.append(a[i-1])\n",
        "          i-=1\n",
        "  while j>0: \n",
        "        s.append(b[j-1])\n",
        "        j-=1     \n",
        "  return s[::-1]     \n",
        "\n",
        "\n",
        "\n",
        "a=\"AGGTAB\"\n",
        "b=\"GXTXAYB\"\n",
        "print(*lcs(a,b,len(a),len(b)),sep=\"\")         "
      ],
      "execution_count": 13,
      "outputs": [
        {
          "output_type": "stream",
          "text": [
            "AGGXTXAYB\n"
          ],
          "name": "stdout"
        }
      ]
    },
    {
      "cell_type": "code",
      "metadata": {
        "id": "u6IqzUL16Z3B"
      },
      "source": [
        ""
      ],
      "execution_count": null,
      "outputs": []
    }
  ]
}