{
  "nbformat": 4,
  "nbformat_minor": 0,
  "metadata": {
    "colab": {
      "name": "Longest Common Subsequence.ipynb",
      "provenance": [],
      "authorship_tag": "ABX9TyOHuJ5uTSr6k6D4+frB8V+n",
      "include_colab_link": true
    },
    "kernelspec": {
      "name": "python3",
      "display_name": "Python 3"
    },
    "language_info": {
      "name": "python"
    }
  },
  "cells": [
    {
      "cell_type": "markdown",
      "metadata": {
        "id": "view-in-github",
        "colab_type": "text"
      },
      "source": [
        "<a href=\"https://colab.research.google.com/github/adasinghasd123/Dynamic_Programming_Using_Python/blob/main/Longest_Common_Subsequence.ipynb\" target=\"_parent\"><img src=\"https://colab.research.google.com/assets/colab-badge.svg\" alt=\"Open In Colab\"/></a>"
      ]
    },
    {
      "cell_type": "code",
      "metadata": {
        "colab": {
          "base_uri": "https://localhost:8080/"
        },
        "id": "YBGoiVaQv-jZ",
        "outputId": "9341b35f-9b21-4d8b-830e-377b7dcdf697"
      },
      "source": [
        "def lcs(x,y,m,n):\n",
        "  t=([[None]*(n+1) for i in range(m+1)])\n",
        "\n",
        "\n",
        "  for i in range(m+1):\n",
        "    for j in range(n+1):\n",
        "      if i==0 or j==0:\n",
        "        t[i][j]=0\n",
        "\n",
        "      elif x[i-1]==y[j-1]:\n",
        "        t[i][j]=1+t[i-1][j-1]\n",
        "      else:\n",
        "        t[i][j]=max(t[i-1][j],t[i][j-1])    \n",
        "  return t[m][n]\n",
        "\n",
        "\n",
        "x = \"AGGTAB\"\n",
        "y = \"GXTXAYB\"\n",
        "z=lcs(x, y,len(x),len(y))\n",
        "print (\"Length of LCS is \",z)"
      ],
      "execution_count": 11,
      "outputs": [
        {
          "output_type": "stream",
          "text": [
            "Length of LCS is  4\n"
          ],
          "name": "stdout"
        }
      ]
    },
    {
      "cell_type": "code",
      "metadata": {
        "id": "W_O-huFSwkjH"
      },
      "source": [
        ""
      ],
      "execution_count": null,
      "outputs": []
    }
  ]
}