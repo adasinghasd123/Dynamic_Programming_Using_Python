{
  "nbformat": 4,
  "nbformat_minor": 0,
  "metadata": {
    "colab": {
      "name": "Matrix Chain Multiplication.ipynb",
      "provenance": [],
      "authorship_tag": "ABX9TyMm/PJLSCeKejKqkaZYcCCX",
      "include_colab_link": true
    },
    "kernelspec": {
      "name": "python3",
      "display_name": "Python 3"
    },
    "language_info": {
      "name": "python"
    }
  },
  "cells": [
    {
      "cell_type": "markdown",
      "metadata": {
        "id": "view-in-github",
        "colab_type": "text"
      },
      "source": [
        "<a href=\"https://colab.research.google.com/github/adasinghasd123/Dynamic_Programming_Using_Python/blob/main/Matrix_Chain_Multiplication.ipynb\" target=\"_parent\"><img src=\"https://colab.research.google.com/assets/colab-badge.svg\" alt=\"Open In Colab\"/></a>"
      ]
    },
    {
      "cell_type": "code",
      "metadata": {
        "colab": {
          "base_uri": "https://localhost:8080/"
        },
        "id": "XqHNhn95z4zI",
        "outputId": "91a3e7dc-f6db-477f-ce62-ba0b567f942f"
      },
      "source": [
        "import sys\n",
        "\n",
        "t=[[-1]*100 for i in range(0,100)]\n",
        "def mcm(arr,i,j):\n",
        "  if i==j:\n",
        "    return 0\n",
        "  if t[i][j] != -1:\n",
        "    return t[i][j]\n",
        "\n",
        "  t[i][j]=sys.maxsize  \n",
        "  for k in range(i,j):\n",
        "    t[i][j]=min(t[i][j],mcm(arr,i,k)+mcm(arr,k+1,j)+arr[i - 1] * arr[k] * arr[j])  \n",
        "  return t[i][j]\n",
        "\n",
        "arr = [1, 2, 3, 4]\n",
        "n = len(arr)\n",
        "i=1\n",
        "j=n-1\n",
        "print(\"Minimum number of multiplications is\",mcm(arr,i,j))  \n"
      ],
      "execution_count": 4,
      "outputs": [
        {
          "output_type": "stream",
          "name": "stdout",
          "text": [
            "Minimum number of multiplications is 18\n"
          ]
        }
      ]
    },
    {
      "cell_type": "code",
      "metadata": {
        "id": "vUDsHgrg0a_m"
      },
      "source": [
        ""
      ],
      "execution_count": null,
      "outputs": []
    }
  ]
}