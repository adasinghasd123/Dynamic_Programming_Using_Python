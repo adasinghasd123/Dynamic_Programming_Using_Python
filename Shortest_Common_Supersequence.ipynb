{
  "nbformat": 4,
  "nbformat_minor": 0,
  "metadata": {
    "colab": {
      "name": "Shortest Common Supersequence.ipynb",
      "provenance": [],
      "authorship_tag": "ABX9TyOjNA+daPuq0eT9aMouTH7l",
      "include_colab_link": true
    },
    "kernelspec": {
      "name": "python3",
      "display_name": "Python 3"
    },
    "language_info": {
      "name": "python"
    }
  },
  "cells": [
    {
      "cell_type": "markdown",
      "metadata": {
        "id": "view-in-github",
        "colab_type": "text"
      },
      "source": [
        "<a href=\"https://colab.research.google.com/github/adasinghasd123/Dynamic_Programming_Using_Python/blob/main/Shortest_Common_Supersequence.ipynb\" target=\"_parent\"><img src=\"https://colab.research.google.com/assets/colab-badge.svg\" alt=\"Open In Colab\"/></a>"
      ]
    },
    {
      "cell_type": "code",
      "metadata": {
        "colab": {
          "base_uri": "https://localhost:8080/"
        },
        "id": "dAbEtCMMi76K",
        "outputId": "9a16ecef-95dd-463e-900a-b2669854f747"
      },
      "source": [
        "def scs(x,y,m,n):\n",
        "  t=[[0 for i in range(n+1)] for j in range(m+1)]\n",
        "\n",
        "  for i in range(m+1):\n",
        "    for j in range(n+1):\n",
        "      if i==0 or j==0:\n",
        "        t[i][j]=0\n",
        "      elif x[i-1] == y[j-1]:\n",
        "        t[i][j]=1+t[i-1][j-1]\n",
        "      else:\n",
        "        t[i][j]=max(t[i-1][j],t[i][j-1])\n",
        "  z=m+n-t[m][n]\n",
        "  return z\n",
        "\n",
        "X = \"AGGTAB\"\n",
        "Y = \"GXTXAYB\"\n",
        "z=scs(X,Y,len(X),len(Y)) \n",
        "print(\"Length of the shortest supersequence is\",z)"
      ],
      "execution_count": 5,
      "outputs": [
        {
          "output_type": "stream",
          "text": [
            "Length of the shortest supersequence is 9\n"
          ],
          "name": "stdout"
        }
      ]
    },
    {
      "cell_type": "code",
      "metadata": {
        "id": "PVkXDf84zgrJ"
      },
      "source": [
        ""
      ],
      "execution_count": null,
      "outputs": []
    }
  ]
}