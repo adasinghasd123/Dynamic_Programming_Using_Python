{
  "nbformat": 4,
  "nbformat_minor": 0,
  "metadata": {
    "colab": {
      "name": "Equal Sum Partition Problem_Using_DP.ipynb",
      "provenance": [],
      "collapsed_sections": [],
      "authorship_tag": "ABX9TyNWfv3cCD/OGF6gcvnuCHvy",
      "include_colab_link": true
    },
    "kernelspec": {
      "name": "python3",
      "display_name": "Python 3"
    },
    "language_info": {
      "name": "python"
    }
  },
  "cells": [
    {
      "cell_type": "markdown",
      "metadata": {
        "id": "view-in-github",
        "colab_type": "text"
      },
      "source": [
        "<a href=\"https://colab.research.google.com/github/adasinghasd123/Dynamic_Programming_Using_Python/blob/main/Equal_Sum_Partition_Problem_Using_DP.ipynb\" target=\"_parent\"><img src=\"https://colab.research.google.com/assets/colab-badge.svg\" alt=\"Open In Colab\"/></a>"
      ]
    },
    {
      "cell_type": "markdown",
      "metadata": {
        "id": "R9A2_HpR1_Lh"
      },
      "source": [
        "**Equal Sum Partition Problem**"
      ]
    },
    {
      "cell_type": "code",
      "metadata": {
        "colab": {
          "base_uri": "https://localhost:8080/"
        },
        "id": "SJ7DgspeqQ3p",
        "outputId": "47d622d7-9c35-4722-d08f-0b2470ab7eb2"
      },
      "source": [
        "def findPartition(arr, n):\n",
        "    s=sum(arr)\n",
        "    if s % 2 != 0:\n",
        "        return false\n",
        " \n",
        "    part = [[True for i in range(n + 1)]\n",
        "            for j in range(s // 2 + 1)]\n",
        " \n",
        "    \n",
        "    for i in range(0, n + 1):\n",
        "        part[0][i] = True\n",
        " \n",
        "    \n",
        "    for i in range(1, s // 2 + 1):\n",
        "        part[i][0] = False\n",
        " \n",
        "  \n",
        "    for i in range(1, s // 2 + 1):\n",
        " \n",
        "        for j in range(1, n + 1):\n",
        "            part[i][j] = part[i][j - 1]\n",
        " \n",
        "            if i >= arr[j - 1]:\n",
        "                part[i][j] = (part[i][j] or\n",
        "                              part[i - arr[j - 1]][j - 1])\n",
        " \n",
        "    return part[s // 2][n]\n",
        " \n",
        " \n",
        "\n",
        "arr = [3, 1, 1, 2, 2, 1]\n",
        "n = len(arr)\n",
        " \n",
        "\n",
        "if findPartition(arr, n) == True:\n",
        "    print(\"Can be divided into two\",\n",
        "          \"subsets of equal sum\")\n",
        "else:\n",
        "    print(\"Can not be divided into \",\n",
        "          \"two subsets of equal sum\")"
      ],
      "execution_count": 5,
      "outputs": [
        {
          "output_type": "stream",
          "text": [
            "Can be divided into two subsets of equal sum\n"
          ],
          "name": "stdout"
        }
      ]
    }
  ]
}