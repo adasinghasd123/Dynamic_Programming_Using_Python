{
  "nbformat": 4,
  "nbformat_minor": 0,
  "metadata": {
    "colab": {
      "name": "Coin_change_Problem(Max._No. Of Ways).ipynb",
      "provenance": [],
      "authorship_tag": "ABX9TyNt9WOVxobL+AnyMFjv+0k+",
      "include_colab_link": true
    },
    "kernelspec": {
      "name": "python3",
      "display_name": "Python 3"
    },
    "language_info": {
      "name": "python"
    }
  },
  "cells": [
    {
      "cell_type": "markdown",
      "metadata": {
        "id": "view-in-github",
        "colab_type": "text"
      },
      "source": [
        "<a href=\"https://colab.research.google.com/github/adasinghasd123/Dynamic_Programming_Using_Python/blob/main/Coin_change_Problem(Max__No_Of_Ways).ipynb\" target=\"_parent\"><img src=\"https://colab.research.google.com/assets/colab-badge.svg\" alt=\"Open In Colab\"/></a>"
      ]
    },
    {
      "cell_type": "code",
      "metadata": {
        "id": "UNZ8CewK70ys",
        "colab": {
          "base_uri": "https://localhost:8080/"
        },
        "outputId": "b2ef27db-6bef-4169-c3af-bfba75002542"
      },
      "source": [
        "def coinsum(sum,coin,n):\n",
        "  t=[[0 for j in range(sum+1)]for i in range(n+1)]\n",
        "  for i in range(n+1): \n",
        "    t[i][0]=1\n",
        "  for i in range(1,n+1):\n",
        "    for j in range(1,sum+1):\n",
        "      if coin[i-1]<=j:\n",
        "        t[i][j]= t[i-1][j] + t[i][j-coin[i-1]]\n",
        "      else:\n",
        "        t[i][j]=t[i-1][j]\n",
        "  return t[n][sum]          \n",
        "\n",
        "\n",
        "if __name__=='__main__':\n",
        "  sum=int(input())\n",
        "  coin=list(map(int,input().split()))\n",
        "  n=len(coin)\n",
        "  ans=coinsum(sum,coin,n)  \n",
        "  print(ans)"
      ],
      "execution_count": 15,
      "outputs": [
        {
          "output_type": "stream",
          "text": [
            "4\n",
            "1 2 3\n",
            "4\n"
          ],
          "name": "stdout"
        }
      ]
    },
    {
      "cell_type": "code",
      "metadata": {
        "id": "a_CJZqAGf_Px"
      },
      "source": [
        ""
      ],
      "execution_count": null,
      "outputs": []
    }
  ]
}