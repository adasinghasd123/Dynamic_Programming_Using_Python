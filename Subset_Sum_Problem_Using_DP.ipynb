{
  "nbformat": 4,
  "nbformat_minor": 0,
  "metadata": {
    "colab": {
      "name": "Subset_Sum_Problem_Using_DP.ipynb",
      "provenance": [],
      "collapsed_sections": [],
      "authorship_tag": "ABX9TyN5PwxX54x/P5dXgJsGNamL",
      "include_colab_link": true
    },
    "kernelspec": {
      "name": "python3",
      "display_name": "Python 3"
    },
    "language_info": {
      "name": "python"
    }
  },
  "cells": [
    {
      "cell_type": "markdown",
      "metadata": {
        "id": "view-in-github",
        "colab_type": "text"
      },
      "source": [
        "<a href=\"https://colab.research.google.com/github/adasinghasd123/Dynamic_Programming_Using_Python/blob/main/Subset_Sum_Problem_Using_DP.ipynb\" target=\"_parent\"><img src=\"https://colab.research.google.com/assets/colab-badge.svg\" alt=\"Open In Colab\"/></a>"
      ]
    },
    {
      "cell_type": "markdown",
      "metadata": {
        "id": "R9A2_HpR1_Lh"
      },
      "source": [
        "**Count of Subsets Sum with a Given Sum**"
      ]
    },
    {
      "cell_type": "code",
      "metadata": {
        "colab": {
          "base_uri": "https://localhost:8080/"
        },
        "id": "SJ7DgspeqQ3p",
        "outputId": "39742ff9-0382-44b0-d89b-c4c4c998d5e8"
      },
      "source": [
        "def subset(arr,s,n):\n",
        "  t=([[0 for i in range(s + 1)]for i in range(n + 1)])\n",
        "  for i in range(n+1):\n",
        "    t[i][0]=1\n",
        "  for i in range(1,s+1):\n",
        "    t[0][i]=0\n",
        "  for i in range(1,n+1):\n",
        "    for j in range(1,s+1):\n",
        "      if arr[i-1]<=j:\n",
        "        t[i][j]= (t[i-1][j-arr[i-1]]) + (t[i-1][j])\n",
        "      else:\n",
        "        t[i][j]=t[i-1][j]  \n",
        "\n",
        "  print(t)\n",
        "  return t[n][s]\n",
        "\n",
        "arr=[1,2,3,3]\n",
        "s=6\n",
        "n=len(arr)\n",
        "ans=subset(arr,s,n)             \n",
        "print(ans)  "
      ],
      "execution_count": null,
      "outputs": [
        {
          "output_type": "stream",
          "text": [
            "[[1, 0, 0, 0, 0, 0, 0], [1, 1, 0, 0, 0, 0, 0], [1, 1, 1, 1, 0, 0, 0], [1, 1, 1, 2, 1, 1, 1], [1, 1, 1, 3, 2, 2, 3]]\n",
            "3\n"
          ],
          "name": "stdout"
        }
      ]
    }
  ]
}